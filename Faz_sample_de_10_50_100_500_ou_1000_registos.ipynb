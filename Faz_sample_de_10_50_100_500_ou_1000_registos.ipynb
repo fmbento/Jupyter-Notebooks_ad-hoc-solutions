{
  "nbformat": 4,
  "nbformat_minor": 0,
  "metadata": {
    "colab": {
      "provenance": [],
      "authorship_tag": "ABX9TyOkYyVPwjEOWFBFeIU8lYiU",
      "include_colab_link": true
    },
    "kernelspec": {
      "name": "python3",
      "display_name": "Python 3"
    },
    "language_info": {
      "name": "python"
    }
  },
  "cells": [
    {
      "cell_type": "markdown",
      "metadata": {
        "id": "view-in-github",
        "colab_type": "text"
      },
      "source": [
        "<a href=\"https://colab.research.google.com/github/fmbento/Jupyter-Notebooks_ad-hoc-solutions/blob/main/Faz_sample_de_10_50_100_500_ou_1000_registos.ipynb\" target=\"_parent\"><img src=\"https://colab.research.google.com/assets/colab-badge.svg\" alt=\"Open In Colab\"/></a>"
      ]
    },
    {
      "cell_type": "markdown",
      "source": [
        "1) É para fazer o download de uma URL?\n",
        "> Se sim, corra esta célula, coloque a URL no campo que vai aparecer e de seguida corra a próxima célula (para carregar um ficheiro basta correr a célula abaixo).\n",
        "\n",
        "\n",
        "\n",
        "\n"
      ],
      "metadata": {
        "id": "F4UamOoFyTdd"
      }
    },
    {
      "cell_type": "code",
      "source": [
        "# @title\n",
        "import ipywidgets as widgets\n",
        "from IPython.display import display\n",
        "\n",
        "url_text = widgets.Text(\n",
        "    description='Indicar URL:',\n",
        "    disabled=False\n",
        ")\n",
        "display(url_text)"
      ],
      "metadata": {
        "id": "egiKUb9lxZUb",
        "cellView": "form"
      },
      "execution_count": null,
      "outputs": []
    },
    {
      "cell_type": "markdown",
      "source": [
        "2) Faz download ou carrega ficheiro:"
      ],
      "metadata": {
        "id": "byyr1tfAyl_d"
      }
    },
    {
      "cell_type": "code",
      "metadata": {
        "id": "a2b07a4a",
        "cellView": "form"
      },
      "source": [
        "# @title\n",
        "import pandas as pd\n",
        "import matplotlib.pyplot as plt\n",
        "import seaborn as sns\n",
        "import io\n",
        "import warnings\n",
        "from google.colab import files\n",
        "import requests # Import the requests library\n",
        "import os # Import os module for file handling\n",
        "\n",
        "# Ignore FutureWarning messages\n",
        "warnings.filterwarnings('ignore', category=FutureWarning)\n",
        "\n",
        "print(\"Libraries imported successfully. Ready for data analysis!\")\n",
        "\n",
        "# Check if a URL is provided in the url_text widget (assuming url_text widget is created in a previous cell)\n",
        "if 'url_text' in globals() and url_text.value:\n",
        "    print(f\"Attempting to download from URL: {url_text.value}\")\n",
        "    try:\n",
        "        # Determine the filename from the URL or set a default\n",
        "        filename = url_text.value.split('/')[-1]\n",
        "        if '.' not in filename:\n",
        "             filename = 'downloaded_file.csv' # Default name if no extension in URL\n",
        "\n",
        "        # Use !wget to download the file\n",
        "        get_ipython().system(f'wget -O {filename} {url_text.value}')\n",
        "\n",
        "        # Check if the file was downloaded successfully\n",
        "        if not os.path.exists(filename):\n",
        "            raise Exception(f\"Error downloading file from URL using wget: {url_text.value}\")\n",
        "\n",
        "        # Try reading the file with different encodings, delimiters, and specifying the quote character\n",
        "        try:\n",
        "            encodings_to_try = ['utf-8', 'latin1', 'ISO-8859-1']\n",
        "            delimiter_to_try = [',', ';']\n",
        "            df = None\n",
        "\n",
        "            for encoding in encodings_to_try:\n",
        "                for delimiter in delimiter_to_try:\n",
        "                    try:\n",
        "                        df = pd.read_csv(filename, sep=delimiter, encoding=encoding, quotechar='\"')\n",
        "                        print(f\"\\nDataset loaded successfully from URL with delimiter '{delimiter}', encoding '{encoding}', and quotechar '\\\"'!\")\n",
        "                        break # Exit loops if successful\n",
        "                    except (UnicodeDecodeError, pd.errors.ParserError) as e:\n",
        "                        print(f\"Failed to read with delimiter '{delimiter}', encoding '{encoding}', and quotechar '\\\"': {e}\")\n",
        "                        continue # Try next combination\n",
        "                if df is not None:\n",
        "                    break # Exit encoding loop if successful\n",
        "\n",
        "            if df is None:\n",
        "                raise Exception(\"Could not read the CSV file with any of the tested delimiter/encoding/quotechar combinations.\")\n",
        "\n",
        "        except Exception as e:\n",
        "            raise Exception(f\"Error during file reading after download: {e}\")\n",
        "\n",
        "    except Exception as e:\n",
        "        raise Exception(f\"Error during file download or reading: {e}\")\n",
        "\n",
        "else:\n",
        "    # Fallback to the existing file upload functionality if no URL is provided\n",
        "    print(\"No URL provided. Falling back to file upload.\")\n",
        "    print(\"Please upload your dataset (CSV file).\")\n",
        "    uploaded = files.upload()\n",
        "\n",
        "    # Check if a file was uploaded\n",
        "    if not uploaded:\n",
        "        raise FileNotFoundError(\"No file was uploaded. Please upload a CSV file to proceed.\")\n",
        "\n",
        "    # Get the filename and file content\n",
        "    filename = list(uploaded.keys())[0]\n",
        "    file_content = io.StringIO(uploaded[filename].decode('utf-8'))\n",
        "\n",
        "    print(f'User uploaded file \"{filename}\" with length {len(uploaded[filename])} bytes')\n",
        "\n",
        "    # Try reading with comma delimiter first\n",
        "    try:\n",
        "        df = pd.read_csv(file_content)\n",
        "        print(\"\\nDataset loaded successfully with comma delimiter!\")\n",
        "    except pd.errors.ParserError:\n",
        "        # If parsing with comma fails, try reading with semicolon delimiter\n",
        "        file_content.seek(0) # Reset file pointer to the beginning\n",
        "        try:\n",
        "            df = pd.read_csv(file_content, sep=';')\n",
        "            print(\"\\nDataset loaded successfully with semicolon delimiter!\")\n",
        "        except Exception as e:\n",
        "            raise Exception(f\"Could not read the CSV file with either comma or semicolon delimiter: {e}\")\n",
        "\n",
        "\n",
        "# Display basic information about the dataset\n",
        "print(\"\\n--- DataFrame Head ---\")\n",
        "print(df.head())\n",
        "\n",
        "print(\"\\n--- DataFrame Info ---\")\n",
        "df.info()\n",
        "\n",
        "print(\"\\n--- DataFrame Description ---\")\n",
        "print(df.describe())"
      ],
      "execution_count": null,
      "outputs": []
    },
    {
      "cell_type": "markdown",
      "source": [
        "3) Faz a amostragem:"
      ],
      "metadata": {
        "id": "hU0MX8lCzIGM"
      }
    },
    {
      "cell_type": "code",
      "source": [
        "# @title\n",
        "import ipywidgets as widgets\n",
        "from IPython.display import display\n",
        "from google.colab import files\n",
        "import pandas as pd\n",
        "import os\n",
        "\n",
        "# Create a dropdown widget for sample size selection\n",
        "sample_size = widgets.Dropdown(\n",
        "    options=[10, 50, 100, 500, 1000],\n",
        "    value=50,  # Default value\n",
        "    description='Sample Size:',\n",
        "    disabled=False,\n",
        ")\n",
        "\n",
        "# Create a button widget to trigger sampling\n",
        "go_button = widgets.Button(\n",
        "    description='Go',\n",
        "    disabled=False,\n",
        "    button_style='', # 'success', 'info', 'warning', 'danger' or ''\n",
        "    tooltip='Click to create sample',\n",
        "    icon='check' # (FontAwesome icons available: https://fontawesome.com/icons?d=gallery&c=spinners&m=free)\n",
        ")\n",
        "\n",
        "# Display the widgets\n",
        "display(sample_size, go_button)\n",
        "\n",
        "# Define the function to be executed when the button is clicked\n",
        "def on_button_clicked(b):\n",
        "    print(\"Creating sample...\")\n",
        "    # Create a sample of the selected size\n",
        "    df_sample = df.sample(n=sample_size.value, random_state=42) # Using random_state for reproducibility\n",
        "\n",
        "    # Determine the original filename based on whether a URL was used or a file was uploaded\n",
        "    if 'url_text' in globals() and url_text.value:\n",
        "        # If a URL was provided, the filename is 'downloaded_file.csv' or inferred from URL if it had an extension\n",
        "        original_filename = url_text.value.split('/')[-1]\n",
        "        if '.' not in original_filename:\n",
        "            original_filename = 'downloaded_file.csv'\n",
        "    elif 'uploaded' in globals() and uploaded:\n",
        "        # If a file was uploaded, get the filename from the uploaded dictionary\n",
        "        original_filename = list(uploaded.keys())[0]\n",
        "    else:\n",
        "        # Default filename if neither a URL was used nor a file was uploaded\n",
        "        original_filename = 'dataset.csv'\n",
        "\n",
        "\n",
        "    # Create the new filename\n",
        "    new_filename = original_filename.replace('.csv', f'_sample_{sample_size.value}.csv')\n",
        "\n",
        "    # Export the sample DataFrame to a CSV file\n",
        "    df_sample.to_csv(new_filename, index=False)\n",
        "\n",
        "    print(f\"\\nSample dataset saved successfully as '{new_filename}'\")\n",
        "\n",
        "    # Automatically download the generated sample file\n",
        "    try:\n",
        "        files.download(new_filename)\n",
        "        print(f\"'{new_filename}' is being downloaded.\")\n",
        "    except Exception as e:\n",
        "        print(f\"Error initiating download: {e}\")\n",
        "\n",
        "\n",
        "go_button.on_click(on_button_clicked)"
      ],
      "metadata": {
        "id": "nibI4lDkwVyT",
        "cellView": "form"
      },
      "execution_count": null,
      "outputs": []
    }
  ]
}